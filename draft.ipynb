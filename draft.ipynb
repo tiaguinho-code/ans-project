{
 "cells": [
  {
   "cell_type": "code",
   "execution_count": 2,
   "metadata": {},
   "outputs": [
    {
     "name": "stdout",
     "output_type": "stream",
     "text": [
      "Clicked 'Reject all' on cookie dialog.\n",
      "Video Title: Delegiertenversammlung der SVP Schweiz in Langenthal\n",
      "Author: SVP Schweiz\n",
      "Clicked on Next video button...\n",
      "Video Title: Der KRASSE Aufstieg der Kommunisten in Österreich\n",
      "Author: DIE DA OBEN!\n",
      "Clicked on Next video button...\n",
      "Video Title: Der ABSURDE Aufstieg der BIERPARTEI in Österreich\n",
      "Author: DIE DA OBEN!\n",
      "Clicked on Next video button...\n",
      "Video Title: Das WAHRE Problem mit Ausbildungen\n",
      "Author: DIE DA OBEN!\n",
      "Clicked on Next video button...\n",
      "Video Title: Geld verdienen in Krisenzeiten | Wer kann das bezahlen? | WDR\n",
      "Author: WDR\n",
      "Clicked on Next video button...\n",
      "Video Title: Der Kampf ums beste Salz – wie Billiges teuer wird | SWR Doku\n",
      "Author: SWR Doku\n",
      "Clicked on Next video button...\n",
      "Video Title: Geld verdienen in Krisenzeiten | Wer kann das bezahlen? | WDR\n",
      "Author: WDR\n",
      "Clicked on Next video button...\n",
      "Video Title: Der Kampf ums beste Salz – wie Billiges teuer wird | SWR Doku\n",
      "Author: SWR Doku\n",
      "Failed to find or click the 'Next' button.\n",
      "Video Title: Der Kampf ums beste Salz – wie Billiges teuer wird | SWR Doku\n",
      "Author: SWR Doku\n",
      "Failed to find or click the 'Next' button.\n",
      "Video Title: Der Kampf ums beste Salz – wie Billiges teuer wird | SWR Doku\n",
      "Author: SWR Doku\n",
      "Failed to find or click the 'Next' button.\n"
     ]
    }
   ],
   "source": [
    "from ansp import yt \n",
    "import time\n",
    "\n",
    "def main():\n",
    "    start_url = \"https://www.youtube.com/watch?v=HHQu_pWlfXA\"  # Starting URL\n",
    "    num_videos = 10  # Number of videos to watch\n",
    "    \n",
    "    driver = yt.setup_driver()\n",
    "    driver.get(start_url)\n",
    "    yt.accept_cookies(driver)  # Handle cookies after navigating to the initial video\n",
    "\n",
    "    for _ in range(num_videos):\n",
    "        yt.print_video_info(driver)  # Print video info\n",
    "        yt.watch_next_video(driver)  # Navigate to and play the next video\n",
    "        time.sleep(5)  # Adjust as needed based on loading times\n",
    "    \n",
    "    driver.quit()\n",
    "\n",
    "if __name__ == \"__main__\":\n",
    "    main()\n"
   ]
  },
  {
   "cell_type": "code",
   "execution_count": null,
   "metadata": {},
   "outputs": [],
   "source": [
    "from ansp import yt\n",
    "yt.parse_time(\"2m\")"
   ]
  },
  {
   "cell_type": "code",
   "execution_count": 3,
   "metadata": {},
   "outputs": [
    {
     "name": "stdout",
     "output_type": "stream",
     "text": [
      "Clicked 'Reject all' on cookie dialog.\n",
      "No skippable ad found.\n",
      "Video Title: Delegiertenversammlung der SVP Schweiz in Langenthal\n",
      "Author: SVP Schweiz\n",
      "Clicked on Next video button...\n",
      "No skippable ad found.\n",
      "Video Title: Die SVP Schweiz – Ein Jahr unterwegs mit den Rechtskonservativen | Doku | SRF Dok\n",
      "Author: SRF Dok\n",
      "Clicked on Next video button...\n",
      "No skippable ad found.\n",
      "Video Title: Christoph Blocher – Leben und Kampf für seine Schweiz | DOK | SRF\n",
      "Author: SRF Dok\n",
      "Clicked on Next video button...\n"
     ]
    },
    {
     "ename": "NoSuchWindowException",
     "evalue": "Message: no such window: target window already closed\nfrom unknown error: web view not found\n  (Session info: chrome=124.0.6367.60)\nStacktrace:\n#0 0x607c77ab9de4 <unknown>\n#1 0x607c7778ed0d <unknown>\n#2 0x607c77766815 <unknown>\n#3 0x607c77808bca <unknown>\n#4 0x607c7781ee69 <unknown>\n#5 0x607c777ffbe3 <unknown>\n#6 0x607c777ce308 <unknown>\n#7 0x607c777cf18f <unknown>\n#8 0x607c77a840b2 <unknown>\n#9 0x607c77a874bd <unknown>\n#10 0x607c77a86fa1 <unknown>\n#11 0x607c77a879d5 <unknown>\n#12 0x607c77a7418b <unknown>\n#13 0x607c77a87ddc <unknown>\n#14 0x607c77a5fa6f <unknown>\n#15 0x607c77aa9537 <unknown>\n#16 0x607c77aa96f4 <unknown>\n#17 0x607c77ab90ce <unknown>\n#18 0x777fdfbee55a <unknown>\n",
     "output_type": "error",
     "traceback": [
      "\u001b[0;31m---------------------------------------------------------------------------\u001b[0m",
      "\u001b[0;31mNoSuchWindowException\u001b[0m                     Traceback (most recent call last)",
      "Cell \u001b[0;32mIn[3], line 108\u001b[0m\n\u001b[1;32m    105\u001b[0m     driver\u001b[38;5;241m.\u001b[39mquit()\n\u001b[1;32m    107\u001b[0m \u001b[38;5;28;01mif\u001b[39;00m \u001b[38;5;18m__name__\u001b[39m \u001b[38;5;241m==\u001b[39m \u001b[38;5;124m\"\u001b[39m\u001b[38;5;124m__main__\u001b[39m\u001b[38;5;124m\"\u001b[39m:\n\u001b[0;32m--> 108\u001b[0m     \u001b[43mmain\u001b[49m\u001b[43m(\u001b[49m\u001b[43m)\u001b[49m\n",
      "Cell \u001b[0;32mIn[3], line 102\u001b[0m, in \u001b[0;36mmain\u001b[0;34m()\u001b[0m\n\u001b[1;32m    100\u001b[0m     get_video_info(driver)  \u001b[38;5;66;03m# Extract video info\u001b[39;00m\n\u001b[1;32m    101\u001b[0m     skip_to_end(driver)\n\u001b[0;32m--> 102\u001b[0m     \u001b[43mwatch_next_video\u001b[49m\u001b[43m(\u001b[49m\u001b[43mdriver\u001b[49m\u001b[43m)\u001b[49m  \u001b[38;5;66;03m# Navigate to and play the next video\u001b[39;00m\n\u001b[1;32m    103\u001b[0m     time\u001b[38;5;241m.\u001b[39msleep(\u001b[38;5;241m5\u001b[39m)  \u001b[38;5;66;03m# Adjust as needed based on loading times\u001b[39;00m\n\u001b[1;32m    105\u001b[0m driver\u001b[38;5;241m.\u001b[39mquit()\n",
      "Cell \u001b[0;32mIn[3], line 84\u001b[0m, in \u001b[0;36mwatch_next_video\u001b[0;34m(driver)\u001b[0m\n\u001b[1;32m     80\u001b[0m next_button\u001b[38;5;241m.\u001b[39mclick()\n\u001b[1;32m     81\u001b[0m \u001b[38;5;28mprint\u001b[39m(\u001b[38;5;124m\"\u001b[39m\u001b[38;5;124mClicked on Next video button...\u001b[39m\u001b[38;5;124m\"\u001b[39m)\n\u001b[0;32m---> 84\u001b[0m \u001b[43mskip_ads\u001b[49m\u001b[43m(\u001b[49m\u001b[43mdriver\u001b[49m\u001b[43m)\u001b[49m  \u001b[38;5;66;03m# Skip any ads that may appear\u001b[39;00m\n\u001b[1;32m     85\u001b[0m \u001b[38;5;66;03m# Wait for the next video to begin playing.\u001b[39;00m\n\u001b[1;32m     86\u001b[0m WebDriverWait(driver, \u001b[38;5;241m20\u001b[39m)\u001b[38;5;241m.\u001b[39muntil(EC\u001b[38;5;241m.\u001b[39minvisibility_of_element_located((By\u001b[38;5;241m.\u001b[39mCLASS_NAME, \u001b[38;5;124m\"\u001b[39m\u001b[38;5;124mytp-spinner\u001b[39m\u001b[38;5;124m\"\u001b[39m)))\n",
      "Cell \u001b[0;32mIn[3], line 37\u001b[0m, in \u001b[0;36mskip_ads\u001b[0;34m(driver)\u001b[0m\n\u001b[1;32m     34\u001b[0m \u001b[38;5;28;01mwhile\u001b[39;00m \u001b[38;5;28;01mTrue\u001b[39;00m:\n\u001b[1;32m     35\u001b[0m     \u001b[38;5;28;01mtry\u001b[39;00m:\n\u001b[1;32m     36\u001b[0m         \u001b[38;5;66;03m# Attempt to find and click the \"Skip Ad\" button\u001b[39;00m\n\u001b[0;32m---> 37\u001b[0m         skip_button \u001b[38;5;241m=\u001b[39m \u001b[43mdriver\u001b[49m\u001b[38;5;241;43m.\u001b[39;49m\u001b[43mfind_element\u001b[49m\u001b[43m(\u001b[49m\u001b[43mBy\u001b[49m\u001b[38;5;241;43m.\u001b[39;49m\u001b[43mCSS_SELECTOR\u001b[49m\u001b[43m,\u001b[49m\u001b[43m \u001b[49m\u001b[38;5;124;43m\"\u001b[39;49m\u001b[38;5;124;43m#skip-button\u001b[39;49m\u001b[38;5;124;43m\\\u001b[39;49m\u001b[38;5;124;43m:1n > span > button\u001b[39;49m\u001b[38;5;124;43m\"\u001b[39;49m\u001b[43m)\u001b[49m\n\u001b[1;32m     38\u001b[0m         skip_button\u001b[38;5;241m.\u001b[39mclick()\n\u001b[1;32m     39\u001b[0m         \u001b[38;5;28mprint\u001b[39m(\u001b[38;5;124m\"\u001b[39m\u001b[38;5;124mAd skipped.\u001b[39m\u001b[38;5;124m\"\u001b[39m)\n",
      "File \u001b[0;32m~/ans-project/.venv/lib/python3.11/site-packages/selenium/webdriver/remote/webdriver.py:741\u001b[0m, in \u001b[0;36mWebDriver.find_element\u001b[0;34m(self, by, value)\u001b[0m\n\u001b[1;32m    738\u001b[0m     by \u001b[38;5;241m=\u001b[39m By\u001b[38;5;241m.\u001b[39mCSS_SELECTOR\n\u001b[1;32m    739\u001b[0m     value \u001b[38;5;241m=\u001b[39m \u001b[38;5;124mf\u001b[39m\u001b[38;5;124m'\u001b[39m\u001b[38;5;124m[name=\u001b[39m\u001b[38;5;124m\"\u001b[39m\u001b[38;5;132;01m{\u001b[39;00mvalue\u001b[38;5;132;01m}\u001b[39;00m\u001b[38;5;124m\"\u001b[39m\u001b[38;5;124m]\u001b[39m\u001b[38;5;124m'\u001b[39m\n\u001b[0;32m--> 741\u001b[0m \u001b[38;5;28;01mreturn\u001b[39;00m \u001b[38;5;28;43mself\u001b[39;49m\u001b[38;5;241;43m.\u001b[39;49m\u001b[43mexecute\u001b[49m\u001b[43m(\u001b[49m\u001b[43mCommand\u001b[49m\u001b[38;5;241;43m.\u001b[39;49m\u001b[43mFIND_ELEMENT\u001b[49m\u001b[43m,\u001b[49m\u001b[43m \u001b[49m\u001b[43m{\u001b[49m\u001b[38;5;124;43m\"\u001b[39;49m\u001b[38;5;124;43musing\u001b[39;49m\u001b[38;5;124;43m\"\u001b[39;49m\u001b[43m:\u001b[49m\u001b[43m \u001b[49m\u001b[43mby\u001b[49m\u001b[43m,\u001b[49m\u001b[43m \u001b[49m\u001b[38;5;124;43m\"\u001b[39;49m\u001b[38;5;124;43mvalue\u001b[39;49m\u001b[38;5;124;43m\"\u001b[39;49m\u001b[43m:\u001b[49m\u001b[43m \u001b[49m\u001b[43mvalue\u001b[49m\u001b[43m}\u001b[49m\u001b[43m)\u001b[49m[\u001b[38;5;124m\"\u001b[39m\u001b[38;5;124mvalue\u001b[39m\u001b[38;5;124m\"\u001b[39m]\n",
      "File \u001b[0;32m~/ans-project/.venv/lib/python3.11/site-packages/selenium/webdriver/remote/webdriver.py:347\u001b[0m, in \u001b[0;36mWebDriver.execute\u001b[0;34m(self, driver_command, params)\u001b[0m\n\u001b[1;32m    345\u001b[0m response \u001b[38;5;241m=\u001b[39m \u001b[38;5;28mself\u001b[39m\u001b[38;5;241m.\u001b[39mcommand_executor\u001b[38;5;241m.\u001b[39mexecute(driver_command, params)\n\u001b[1;32m    346\u001b[0m \u001b[38;5;28;01mif\u001b[39;00m response:\n\u001b[0;32m--> 347\u001b[0m     \u001b[38;5;28;43mself\u001b[39;49m\u001b[38;5;241;43m.\u001b[39;49m\u001b[43merror_handler\u001b[49m\u001b[38;5;241;43m.\u001b[39;49m\u001b[43mcheck_response\u001b[49m\u001b[43m(\u001b[49m\u001b[43mresponse\u001b[49m\u001b[43m)\u001b[49m\n\u001b[1;32m    348\u001b[0m     response[\u001b[38;5;124m\"\u001b[39m\u001b[38;5;124mvalue\u001b[39m\u001b[38;5;124m\"\u001b[39m] \u001b[38;5;241m=\u001b[39m \u001b[38;5;28mself\u001b[39m\u001b[38;5;241m.\u001b[39m_unwrap_value(response\u001b[38;5;241m.\u001b[39mget(\u001b[38;5;124m\"\u001b[39m\u001b[38;5;124mvalue\u001b[39m\u001b[38;5;124m\"\u001b[39m, \u001b[38;5;28;01mNone\u001b[39;00m))\n\u001b[1;32m    349\u001b[0m     \u001b[38;5;28;01mreturn\u001b[39;00m response\n",
      "File \u001b[0;32m~/ans-project/.venv/lib/python3.11/site-packages/selenium/webdriver/remote/errorhandler.py:229\u001b[0m, in \u001b[0;36mErrorHandler.check_response\u001b[0;34m(self, response)\u001b[0m\n\u001b[1;32m    227\u001b[0m         alert_text \u001b[38;5;241m=\u001b[39m value[\u001b[38;5;124m\"\u001b[39m\u001b[38;5;124malert\u001b[39m\u001b[38;5;124m\"\u001b[39m]\u001b[38;5;241m.\u001b[39mget(\u001b[38;5;124m\"\u001b[39m\u001b[38;5;124mtext\u001b[39m\u001b[38;5;124m\"\u001b[39m)\n\u001b[1;32m    228\u001b[0m     \u001b[38;5;28;01mraise\u001b[39;00m exception_class(message, screen, stacktrace, alert_text)  \u001b[38;5;66;03m# type: ignore[call-arg]  # mypy is not smart enough here\u001b[39;00m\n\u001b[0;32m--> 229\u001b[0m \u001b[38;5;28;01mraise\u001b[39;00m exception_class(message, screen, stacktrace)\n",
      "\u001b[0;31mNoSuchWindowException\u001b[0m: Message: no such window: target window already closed\nfrom unknown error: web view not found\n  (Session info: chrome=124.0.6367.60)\nStacktrace:\n#0 0x607c77ab9de4 <unknown>\n#1 0x607c7778ed0d <unknown>\n#2 0x607c77766815 <unknown>\n#3 0x607c77808bca <unknown>\n#4 0x607c7781ee69 <unknown>\n#5 0x607c777ffbe3 <unknown>\n#6 0x607c777ce308 <unknown>\n#7 0x607c777cf18f <unknown>\n#8 0x607c77a840b2 <unknown>\n#9 0x607c77a874bd <unknown>\n#10 0x607c77a86fa1 <unknown>\n#11 0x607c77a879d5 <unknown>\n#12 0x607c77a7418b <unknown>\n#13 0x607c77a87ddc <unknown>\n#14 0x607c77a5fa6f <unknown>\n#15 0x607c77aa9537 <unknown>\n#16 0x607c77aa96f4 <unknown>\n#17 0x607c77ab90ce <unknown>\n#18 0x777fdfbee55a <unknown>\n"
     ]
    }
   ],
   "source": [
    "from ansp import yt\n",
    "import time\n",
    "import pandas as pd\n",
    "\n",
    "def main():\n",
    "    start_url = \"https://www.youtube.com/watch?v=HHQu_pWlfXA\"  # Starting URL\n",
    "    num_videos = 10  # Number of videos to watch\n",
    "    \n",
    "    driver = yt.setup_driver()\n",
    "    driver.get(start_url)\n",
    "    yt.accept_cookies(driver)  # Handle cookies after navigating to the initial video\n",
    "    yt.skip_ads(driver)  # Skip any ads that may appear before the first video\n",
    "\n",
    "    for _ in range(num_videos):\n",
    "        yt.print_video_info(driver)  # Extract video info\n",
    "        yt.skip_to_end(driver)\n",
    "        yt.watch_next_video(driver)  # Navigate to and play the next video\n",
    "        time.sleep(5)  # Adjust as needed based on loading times\n",
    "    \n",
    "    driver.quit()\n",
    "\n",
    "if __name__ == \"__main__\":\n",
    "    main()"
   ]
  }
 ],
 "metadata": {
  "kernelspec": {
   "display_name": "base",
   "language": "python",
   "name": "python3"
  },
  "language_info": {
   "codemirror_mode": {
    "name": "ipython",
    "version": 3
   },
   "file_extension": ".py",
   "mimetype": "text/x-python",
   "name": "python",
   "nbconvert_exporter": "python",
   "pygments_lexer": "ipython3",
   "version": "3.12.3"
  }
 },
 "nbformat": 4,
 "nbformat_minor": 2
}
